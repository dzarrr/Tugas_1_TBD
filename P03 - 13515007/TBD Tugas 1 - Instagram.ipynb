{
 "cells": [
  {
   "cell_type": "markdown",
   "metadata": {},
   "source": [
    "Dzar Bela Hanifa\n",
    "<br>\n",
    "13515007\n",
    "<br>\n",
    "Laporan TBD Tugas 1 - Instagram\n",
    "<br>\n",
    "Bahasa : Python 2.7"
   ]
  },
  {
   "cell_type": "code",
   "execution_count": 6,
   "metadata": {},
   "outputs": [],
   "source": [
    "%matplotlib inline\n",
    "\n",
    "\n",
    "from bs4 import BeautifulSoup\n",
    "import requests\n",
    "\n",
    "import pandas as pd\n",
    "import matplotlib.pyplot as plt\n",
    "\n",
    "data = open(\"dataInsta.txt\", \"r\")\n",
    "insta_user = []\n",
    "for line in data:\n",
    "    insta_user.append(line.replace(\"\\r\\n\", \"\"))"
   ]
  },
  {
   "cell_type": "markdown",
   "metadata": {},
   "source": [
    "Pertama-tama data user Instagram akan dibaca terlebih dulu dari dataInsta.txt lalu dibersihkan dari karakter yang tidak relevan."
   ]
  },
  {
   "cell_type": "code",
   "execution_count": 7,
   "metadata": {},
   "outputs": [],
   "source": [
    "page_list = []\n",
    "\n",
    "for user in insta_user:\n",
    "    page_list.append(\"https://www.instagram.com\" + user)\n"
   ]
  },
  {
   "cell_type": "markdown",
   "metadata": {},
   "source": [
    "Setelah itu, daftar <i>page</i> tiap-tiap <i>user</i> akan disimpan ke dalam <i>list</i>"
   ]
  },
  {
   "cell_type": "code",
   "execution_count": 11,
   "metadata": {},
   "outputs": [
    {
     "name": "stdout",
     "output_type": "stream",
     "text": [
      "<Response [404]>\n",
      "<Response [404]>\n",
      "<Response [200]>\n",
      "<Response [404]>\n",
      "<Response [200]>\n",
      "<Response [200]>\n",
      "<Response [200]>\n",
      "<Response [200]>\n",
      "<Response [200]>\n",
      "<Response [200]>\n",
      "<Response [200]>\n",
      "<Response [200]>\n",
      "<Response [200]>\n",
      "<Response [200]>\n",
      "<Response [200]>\n",
      "<Response [200]>\n",
      "<Response [200]>\n",
      "<Response [200]>\n",
      "<Response [200]>\n",
      "<Response [200]>\n",
      "<Response [200]>\n",
      "<Response [200]>\n",
      "<Response [200]>\n",
      "<Response [200]>\n",
      "<Response [200]>\n",
      "<Response [200]>\n",
      "<Response [200]>\n",
      "<Response [404]>\n",
      "<Response [200]>\n",
      "<Response [200]>\n",
      "<Response [200]>\n",
      "<Response [200]>\n",
      "<Response [200]>\n",
      "<Response [200]>\n",
      "<Response [200]>\n",
      "<Response [200]>\n",
      "<Response [200]>\n",
      "<Response [200]>\n",
      "<Response [200]>\n",
      "<Response [200]>\n",
      "<Response [200]>\n",
      "<Response [200]>\n",
      "<Response [200]>\n",
      "<Response [200]>\n",
      "<Response [200]>\n",
      "<Response [200]>\n",
      "<Response [200]>\n",
      "<Response [200]>\n",
      "<Response [200]>\n",
      "<Response [404]>\n",
      "<Response [200]>\n",
      "<Response [200]>\n",
      "<Response [200]>\n",
      "<Response [200]>\n",
      "<Response [200]>\n",
      "<Response [200]>\n",
      "<Response [200]>\n",
      "<Response [200]>\n",
      "<Response [200]>\n",
      "<Response [200]>\n",
      "<Response [200]>\n",
      "<Response [200]>\n",
      "<Response [200]>\n",
      "<Response [200]>\n",
      "<Response [200]>\n",
      "<Response [200]>\n",
      "<Response [200]>\n",
      "<Response [200]>\n",
      "<Response [200]>\n",
      "<Response [200]>\n",
      "<Response [200]>\n",
      "<Response [200]>\n",
      "<Response [200]>\n",
      "<Response [200]>\n",
      "<Response [200]>\n",
      "<Response [200]>\n",
      "<Response [200]>\n",
      "<Response [200]>\n",
      "<Response [200]>\n",
      "<Response [200]>\n",
      "<Response [200]>\n",
      "<Response [200]>\n",
      "<Response [200]>\n",
      "<Response [200]>\n",
      "<Response [200]>\n",
      "<Response [200]>\n",
      "<Response [200]>\n",
      "<Response [200]>\n",
      "<Response [200]>\n",
      "<Response [200]>\n",
      "<Response [200]>\n",
      "<Response [200]>\n",
      "<Response [200]>\n",
      "<Response [200]>\n",
      "<Response [200]>\n",
      "<Response [200]>\n",
      "<Response [200]>\n",
      "<Response [200]>\n",
      "<Response [200]>\n",
      "<Response [200]>\n",
      "<Response [200]>\n",
      "<Response [200]>\n",
      "<Response [200]>\n",
      "<Response [200]>\n",
      "<Response [200]>\n",
      "<Response [200]>\n",
      "<Response [200]>\n",
      "<Response [200]>\n",
      "<Response [200]>\n",
      "<Response [200]>\n",
      "<Response [200]>\n",
      "<Response [200]>\n",
      "<Response [200]>\n",
      "<Response [200]>\n",
      "<Response [200]>\n",
      "<Response [200]>\n",
      "<Response [200]>\n",
      "<Response [200]>\n",
      "<Response [200]>\n",
      "<Response [200]>\n",
      "<Response [200]>\n",
      "<Response [200]>\n",
      "<Response [200]>\n",
      "<Response [200]>\n",
      "<Response [404]>\n",
      "<Response [200]>\n",
      "<Response [200]>\n",
      "<Response [200]>\n",
      "<Response [200]>\n",
      "<Response [200]>\n",
      "<Response [200]>\n",
      "<Response [200]>\n",
      "<Response [200]>\n",
      "<Response [200]>\n",
      "<Response [200]>\n",
      "<Response [404]>\n",
      "<Response [200]>\n",
      "<Response [200]>\n",
      "<Response [404]>\n",
      "<Response [200]>\n",
      "<Response [200]>\n",
      "<Response [200]>\n",
      "<Response [200]>\n",
      "<Response [200]>\n",
      "<Response [404]>\n",
      "<Response [200]>\n",
      "<Response [200]>\n",
      "<Response [200]>\n",
      "<Response [200]>\n",
      "<Response [200]>\n",
      "<Response [200]>\n",
      "<Response [200]>\n",
      "<Response [200]>\n",
      "<Response [200]>\n",
      "<Response [200]>\n",
      "<Response [200]>\n",
      "<Response [200]>\n",
      "<Response [200]>\n",
      "<Response [200]>\n",
      "<Response [200]>\n",
      "<Response [200]>\n",
      "<Response [200]>\n",
      "<Response [200]>\n",
      "<Response [200]>\n",
      "<Response [200]>\n",
      "<Response [200]>\n",
      "<Response [404]>\n",
      "<Response [200]>\n",
      "<Response [200]>\n",
      "<Response [200]>\n",
      "<Response [200]>\n",
      "<Response [200]>\n",
      "<Response [200]>\n",
      "<Response [200]>\n",
      "<Response [200]>\n",
      "<Response [200]>\n",
      "<Response [200]>\n",
      "<Response [200]>\n",
      "<Response [200]>\n",
      "<Response [200]>\n",
      "<Response [200]>\n",
      "<Response [200]>\n",
      "<Response [200]>\n",
      "<Response [200]>\n",
      "<Response [200]>\n",
      "<Response [200]>\n",
      "<Response [200]>\n",
      "<Response [200]>\n",
      "<Response [200]>\n",
      "<Response [200]>\n",
      "<Response [200]>\n",
      "<Response [200]>\n",
      "<Response [200]>\n",
      "<Response [200]>\n",
      "<Response [404]>\n",
      "<Response [200]>\n",
      "<Response [200]>\n",
      "<Response [200]>\n",
      "<Response [200]>\n",
      "<Response [200]>\n",
      "<Response [200]>\n",
      "<Response [200]>\n",
      "<Response [200]>\n",
      "<Response [200]>\n",
      "<Response [200]>\n",
      "<Response [200]>\n",
      "<Response [200]>\n",
      "<Response [200]>\n",
      "<Response [200]>\n",
      "<Response [200]>\n",
      "<Response [200]>\n",
      "<Response [200]>\n",
      "<Response [200]>\n",
      "<Response [200]>\n",
      "<Response [200]>\n",
      "<Response [200]>\n",
      "<Response [200]>\n",
      "<Response [200]>\n",
      "<Response [200]>\n",
      "<Response [200]>\n",
      "<Response [200]>\n",
      "<Response [200]>\n",
      "<Response [200]>\n",
      "<Response [200]>\n",
      "<Response [200]>\n",
      "<Response [200]>\n",
      "<Response [200]>\n",
      "<Response [200]>\n",
      "<Response [200]>\n",
      "<Response [200]>\n",
      "<Response [200]>\n",
      "<Response [200]>\n",
      "<Response [200]>\n",
      "<Response [200]>\n",
      "<Response [200]>\n",
      "<Response [200]>\n",
      "<Response [200]>\n",
      "<Response [200]>\n",
      "<Response [200]>\n",
      "<Response [200]>\n",
      "<Response [200]>\n",
      "<Response [200]>\n",
      "<Response [200]>\n",
      "<Response [200]>\n",
      "<Response [404]>\n",
      "<Response [200]>\n",
      "<Response [200]>\n",
      "<Response [200]>\n",
      "<Response [200]>\n",
      "<Response [200]>\n",
      "<Response [200]>\n",
      "<Response [200]>\n",
      "<Response [200]>\n",
      "<Response [200]>\n",
      "<Response [200]>\n",
      "<Response [200]>\n",
      "<Response [200]>\n",
      "<Response [200]>\n",
      "<Response [200]>\n",
      "<Response [200]>\n",
      "<Response [200]>\n",
      "<Response [200]>\n",
      "<Response [200]>\n",
      "<Response [200]>\n",
      "<Response [200]>\n",
      "<Response [200]>\n",
      "<Response [200]>\n",
      "<Response [200]>\n",
      "<Response [200]>\n",
      "<Response [200]>\n",
      "<Response [200]>\n",
      "<Response [200]>\n",
      "<Response [200]>\n",
      "<Response [200]>\n",
      "<Response [200]>\n",
      "<Response [200]>\n",
      "<Response [200]>\n",
      "<Response [200]>\n",
      "<Response [200]>\n",
      "<Response [200]>\n",
      "<Response [200]>\n",
      "<Response [200]>\n",
      "<Response [200]>\n",
      "<Response [200]>\n",
      "<Response [200]>\n",
      "<Response [200]>\n",
      "<Response [200]>\n",
      "<Response [200]>\n",
      "<Response [200]>\n",
      "<Response [200]>\n",
      "<Response [200]>\n",
      "<Response [200]>\n",
      "<Response [200]>\n",
      "<Response [404]>\n",
      "<Response [200]>\n",
      "<Response [200]>\n",
      "<Response [200]>\n",
      "<Response [200]>\n",
      "<Response [200]>\n",
      "<Response [200]>\n",
      "<Response [200]>\n",
      "<Response [200]>\n",
      "<Response [200]>\n",
      "<Response [200]>\n",
      "<Response [200]>\n",
      "<Response [200]>\n",
      "<Response [200]>\n",
      "<Response [200]>\n",
      "<Response [200]>\n",
      "<Response [200]>\n",
      "<Response [200]>\n",
      "<Response [200]>\n",
      "<Response [200]>\n",
      "<Response [200]>\n",
      "<Response [200]>\n",
      "<Response [200]>\n",
      "<Response [200]>\n",
      "<Response [200]>\n",
      "<Response [200]>\n",
      "<Response [200]>\n",
      "<Response [200]>\n",
      "<Response [200]>\n",
      "<Response [200]>\n",
      "<Response [200]>\n",
      "<Response [200]>\n",
      "<Response [200]>\n",
      "<Response [429]>\n",
      "<Response [429]>\n",
      "<Response [429]>\n",
      "<Response [429]>\n",
      "<Response [429]>\n",
      "<Response [429]>\n",
      "<Response [429]>\n",
      "<Response [429]>\n",
      "<Response [429]>\n",
      "<Response [429]>\n",
      "<Response [200]>\n",
      "<Response [200]>\n",
      "<Response [200]>\n",
      "<Response [200]>\n",
      "<Response [200]>\n",
      "<Response [200]>\n",
      "<Response [200]>\n",
      "<Response [200]>\n",
      "<Response [200]>\n",
      "<Response [200]>\n",
      "<Response [200]>\n",
      "<Response [200]>\n",
      "<Response [200]>\n",
      "<Response [200]>\n",
      "<Response [200]>\n",
      "<Response [200]>\n",
      "<Response [200]>\n",
      "<Response [200]>\n",
      "<Response [200]>\n",
      "<Response [200]>\n",
      "<Response [200]>\n",
      "<Response [200]>\n",
      "<Response [200]>\n",
      "<Response [200]>\n",
      "<Response [200]>\n",
      "<Response [200]>\n",
      "<Response [200]>\n",
      "<Response [200]>\n",
      "<Response [200]>\n",
      "<Response [200]>\n",
      "<Response [200]>\n",
      "<Response [404]>\n",
      "<Response [200]>\n",
      "<Response [404]>\n",
      "<Response [200]>\n",
      "<Response [200]>\n",
      "<Response [200]>\n",
      "<Response [200]>\n",
      "<Response [200]>\n",
      "<Response [200]>\n",
      "<Response [200]>\n",
      "<Response [404]>\n",
      "<Response [200]>\n",
      "<Response [200]>\n",
      "<Response [200]>\n",
      "<Response [200]>\n",
      "<Response [200]>\n",
      "<Response [200]>\n",
      "<Response [200]>\n",
      "<Response [200]>\n",
      "<Response [200]>\n",
      "<Response [200]>\n",
      "<Response [200]>\n",
      "<Response [200]>\n",
      "<Response [200]>\n",
      "<Response [200]>\n",
      "<Response [200]>\n",
      "<Response [200]>\n",
      "<Response [200]>\n",
      "<Response [200]>\n",
      "<Response [200]>\n",
      "<Response [200]>\n",
      "<Response [200]>\n",
      "<Response [200]>\n",
      "<Response [200]>\n",
      "<Response [200]>\n",
      "<Response [429]>\n",
      "<Response [429]>\n",
      "<Response [429]>\n",
      "<Response [429]>\n",
      "<Response [429]>\n",
      "<Response [429]>\n"
     ]
    }
   ],
   "source": [
    "followers = []\n",
    "following = []\n",
    "posts = []\n",
    "valid_user = []\n",
    "\n",
    "for (raw_page, user) in zip(page_list, insta_user):\n",
    "    page = requests.get(raw_page, timeout=5)\n",
    "    print (page)\n",
    "    if (page.status_code == 200) : #Jika request berhasil\n",
    "        soup = BeautifulSoup(page.content, 'html.parser')\n",
    "        page_data = soup.find('meta', {'name': 'description'})['content'].split('-')\n",
    "        page_data = page_data[0].split(\", \")\n",
    "        \n",
    "        valid_user.append(user.split(\"/\")[1])\n",
    "        for elements in page_data:\n",
    "            elements = elements.split(' ')\n",
    "            if elements > 0:\n",
    "                if elements[1] == \"Followers\":\n",
    "                    if elements[0][-1] == \"k\":\n",
    "                        elements[0] = elements[0][:-1]\n",
    "                        followers.append(int(elements[0].replace(\".\", \"\")) * 1000)\n",
    "                    else:\n",
    "                        followers.append(int(elements[0].replace(\",\",\"\")))\n",
    "                if elements[1] == \"Following\":\n",
    "                    if elements[0][-1] == \"k\":\n",
    "                        elements[0] = elements[0][:-1]\n",
    "                        following.append(int(elements[0].replace(\".\", \"\")) * 1000)\n",
    "                    else:\n",
    "                        following.append(int(elements[0].replace(\",\",\"\")))\n",
    "                if elements[1] == \"Posts\":\n",
    "                    if elements[0][-1] == \"k\":\n",
    "                        elements[0] = elements[0][:-1]\n",
    "                        posts.append(int(elements[0].replace(\".\", \"\")) * 1000)\n",
    "                    else:\n",
    "                        posts.append(int(elements[0].replace(\",\",\"\")))\n",
    "            \n",
    "# print followers"
   ]
  },
  {
   "cell_type": "markdown",
   "metadata": {},
   "source": [
    "Dengan library <i>request</i> data terkait <i>page</i> setiap <i>user</i> akan diperoleh. Ternyata beberapa <i>user</i> telah mengganti nama akun / menghapus instagramnya. Oleh karena itu jumlah <i>request</i> yang berhasil tidak sebanyak jumlah <i>username</i> yang tersedia.\n",
    "\n",
    "Dari tiap <i> page </i> yang ada, saya tertarik dengan data terkait jumlah <i>follower</i>, <i>following</i>, serta <i>post</i>. Data-data tersebut saya dapatkan dengan bantuan library BeautifulSoup"
   ]
  },
  {
   "cell_type": "code",
   "execution_count": 12,
   "metadata": {},
   "outputs": [
    {
     "data": {
      "text/html": [
       "<div>\n",
       "<style scoped>\n",
       "    .dataframe tbody tr th:only-of-type {\n",
       "        vertical-align: middle;\n",
       "    }\n",
       "\n",
       "    .dataframe tbody tr th {\n",
       "        vertical-align: top;\n",
       "    }\n",
       "\n",
       "    .dataframe thead th {\n",
       "        text-align: right;\n",
       "    }\n",
       "</style>\n",
       "<table border=\"1\" class=\"dataframe\">\n",
       "  <thead>\n",
       "    <tr style=\"text-align: right;\">\n",
       "      <th></th>\n",
       "      <th>followers</th>\n",
       "      <th>following</th>\n",
       "      <th>posts</th>\n",
       "    </tr>\n",
       "  </thead>\n",
       "  <tbody>\n",
       "    <tr>\n",
       "      <th>count</th>\n",
       "      <td>3.760000e+02</td>\n",
       "      <td>376.000000</td>\n",
       "      <td>376.000000</td>\n",
       "    </tr>\n",
       "    <tr>\n",
       "      <th>mean</th>\n",
       "      <td>5.746859e+03</td>\n",
       "      <td>431.851064</td>\n",
       "      <td>47.539894</td>\n",
       "    </tr>\n",
       "    <tr>\n",
       "      <th>std</th>\n",
       "      <td>5.758334e+04</td>\n",
       "      <td>728.037138</td>\n",
       "      <td>166.730324</td>\n",
       "    </tr>\n",
       "    <tr>\n",
       "      <th>min</th>\n",
       "      <td>0.000000e+00</td>\n",
       "      <td>0.000000</td>\n",
       "      <td>0.000000</td>\n",
       "    </tr>\n",
       "    <tr>\n",
       "      <th>25%</th>\n",
       "      <td>7.300000e+01</td>\n",
       "      <td>78.500000</td>\n",
       "      <td>2.000000</td>\n",
       "    </tr>\n",
       "    <tr>\n",
       "      <th>50%</th>\n",
       "      <td>3.055000e+02</td>\n",
       "      <td>215.000000</td>\n",
       "      <td>10.000000</td>\n",
       "    </tr>\n",
       "    <tr>\n",
       "      <th>75%</th>\n",
       "      <td>8.857500e+02</td>\n",
       "      <td>435.250000</td>\n",
       "      <td>34.250000</td>\n",
       "    </tr>\n",
       "    <tr>\n",
       "      <th>max</th>\n",
       "      <td>1.019000e+06</td>\n",
       "      <td>6894.000000</td>\n",
       "      <td>2468.000000</td>\n",
       "    </tr>\n",
       "  </tbody>\n",
       "</table>\n",
       "</div>"
      ],
      "text/plain": [
       "          followers    following        posts\n",
       "count  3.760000e+02   376.000000   376.000000\n",
       "mean   5.746859e+03   431.851064    47.539894\n",
       "std    5.758334e+04   728.037138   166.730324\n",
       "min    0.000000e+00     0.000000     0.000000\n",
       "25%    7.300000e+01    78.500000     2.000000\n",
       "50%    3.055000e+02   215.000000    10.000000\n",
       "75%    8.857500e+02   435.250000    34.250000\n",
       "max    1.019000e+06  6894.000000  2468.000000"
      ]
     },
     "execution_count": 12,
     "metadata": {},
     "output_type": "execute_result"
    }
   ],
   "source": [
    "df = pd.DataFrame()\n",
    "df['username'] = valid_user\n",
    "df['followers'] = followers\n",
    "df['following'] = following\n",
    "df['posts'] = posts\n",
    "df.describe()"
   ]
  },
  {
   "cell_type": "code",
   "execution_count": 13,
   "metadata": {},
   "outputs": [
    {
     "name": "stdout",
     "output_type": "stream",
     "text": [
      "largest value in followers: 1019000\n",
      "smallest value in followers: 0\n",
      "largest value in following: 6894\n",
      "smallest value in following: 0\n",
      "largest value in posts: 2468\n",
      "smallest value in posts: 0\n"
     ]
    }
   ],
   "source": [
    "#Largest and smallest value\n",
    "\n",
    "print \"largest value in followers:\", max(df['followers'])\n",
    "print \"smallest value in followers:\", min(df['followers'])\n",
    "print \"largest value in following:\", max(df['following'])\n",
    "print \"smallest value in following:\", min(df['following'])\n",
    "print \"largest value in posts:\", max(df['posts'])\n",
    "print \"smallest value in posts:\", min(df['posts'])"
   ]
  },
  {
   "cell_type": "code",
   "execution_count": 14,
   "metadata": {},
   "outputs": [
    {
     "name": "stdout",
     "output_type": "stream",
     "text": [
      "second largest value in followers 358000\n",
      "second smallest value in followers 1\n",
      "second largest value in following 5538\n",
      "second smallest value in following 1\n",
      "second largest value in posts 1566\n",
      "second smallest value in posts 1\n"
     ]
    }
   ],
   "source": [
    "#Second Largest and Second Smallest value in num_friends\n",
    "\n",
    "print \"second largest value in followers\", sorted(list(set(df['followers'])), reverse=True)[1]\n",
    "print \"second smallest value in followers\", sorted(list(set(df['followers']))) [1]\n",
    "print \"second largest value in following\", sorted(list(set(df['following'])), reverse=True)[1]\n",
    "print \"second smallest value in following\", sorted(list(set(df['following']))) [1]\n",
    "print \"second largest value in posts\", sorted(list(set(df['posts'])), reverse=True)[1]\n",
    "print \"second smallest value in posts\", sorted(list(set(df['posts']))) [1]"
   ]
  },
  {
   "cell_type": "code",
   "execution_count": 16,
   "metadata": {},
   "outputs": [
    {
     "name": "stdout",
     "output_type": "stream",
     "text": [
      "mean of the followers  5746.859042553191\n",
      "mean of the following  431.8510638297872\n",
      "mean of the posts  47.53989361702128\n"
     ]
    }
   ],
   "source": [
    "#Mean of data\n",
    "\n",
    "print \"mean of the followers \", df['followers'].mean()\n",
    "print \"mean of the following \", df['following'].mean()\n",
    "print \"mean of the posts \", df['posts'].mean()"
   ]
  },
  {
   "cell_type": "code",
   "execution_count": 17,
   "metadata": {},
   "outputs": [
    {
     "name": "stdout",
     "output_type": "stream",
     "text": [
      "median of the followers  305.5\n",
      "median of the following  215.0\n",
      "median of the posts  10.0\n"
     ]
    }
   ],
   "source": [
    "#Median of data\n",
    "\n",
    "print \"median of the followers \",  df['followers'].median()\n",
    "print \"median of the following \",  df['following'].median()\n",
    "print \"median of the posts \",  df['posts'].median()"
   ]
  },
  {
   "cell_type": "code",
   "execution_count": 20,
   "metadata": {},
   "outputs": [
    {
     "name": "stdout",
     "output_type": "stream",
     "text": [
      " Followers\n",
      "0.1 Quantile :  16.0\n",
      "0.25 Quantilea :  73.0\n",
      "0.75 Quantile :  885.75\n",
      "0.90 Quantile :  2110.0\n",
      "\n",
      "\n",
      "Following\n",
      "0.1 Quantile :  31.5\n",
      "0.25 Quantilea :  78.5\n",
      "0.75 Quantile :  435.25\n",
      "0.90 Quantile :  971.0\n",
      "\n",
      "\n",
      "Posts\n",
      "0.1 Quantile :  0.0\n",
      "0.25 Quantilea :  2.0\n",
      "0.75 Quantile :  34.25\n",
      "0.90 Quantile :  99.5\n"
     ]
    }
   ],
   "source": [
    "#Quantile of data\n",
    "\n",
    "print \"Followers\"\n",
    "print \"0.1 Quantile : \", df['followers'].quantile(q=0.1)\n",
    "print \"0.25 Quantilea : \", df['followers'].quantile(q=0.25)\n",
    "print \"0.75 Quantile : \", df['followers'].quantile(q=0.75)\n",
    "print \"0.90 Quantile : \", df['followers'].quantile(q=0.90)\n",
    "print (\"\\n\")\n",
    "print \"Following\"\n",
    "print \"0.1 Quantile : \", df['following'].quantile(q=0.1)\n",
    "print \"0.25 Quantilea : \", df['following'].quantile(q=0.25)\n",
    "print \"0.75 Quantile : \", df['following'].quantile(q=0.75)\n",
    "print \"0.90 Quantile : \", df['following'].quantile(q=0.90)\n",
    "print (\"\\n\")\n",
    "print \"Posts\"\n",
    "print \"0.1 Quantile : \", df['posts'].quantile(q=0.1)\n",
    "print \"0.25 Quantilea : \", df['posts'].quantile(q=0.25)\n",
    "print \"0.75 Quantile : \", df['posts'].quantile(q=0.75)\n",
    "print \"0.90 Quantile : \", df['posts'].quantile(q=0.90)"
   ]
  },
  {
   "cell_type": "code",
   "execution_count": 21,
   "metadata": {},
   "outputs": [
    {
     "name": "stdout",
     "output_type": "stream",
     "text": [
      "Followers\n",
      "13\n",
      "\n",
      "\n",
      "Following\n",
      "18\n",
      "149\n",
      "\n",
      "\n",
      "Posts\n",
      "0\n"
     ]
    }
   ],
   "source": [
    "#Mode of data\n",
    "\n",
    "print (\"Followers\")\n",
    "for elements in df['followers'].mode():\n",
    "    print elements\n",
    "print (\"\\n\")\n",
    "print (\"Following\")\n",
    "for elements in df['following'].mode():\n",
    "    print elements\n",
    "print (\"\\n\")\n",
    "print (\"Posts\")\n",
    "for elements in df['posts'].mode():\n",
    "    print elements"
   ]
  },
  {
   "cell_type": "code",
   "execution_count": 22,
   "metadata": {},
   "outputs": [
    {
     "name": "stdout",
     "output_type": "stream",
     "text": [
      "range of followers  1019000\n",
      "range of following  6894\n",
      "range of posts  2468\n"
     ]
    }
   ],
   "source": [
    "#Data range\n",
    "\n",
    "print \"range of followers \", max(df['followers']) - min(df['followers'])\n",
    "print \"range of following \", max(df['following']) - min(df['following'])\n",
    "print \"range of posts \", max(df['posts']) - min(df['posts'])"
   ]
  },
  {
   "cell_type": "code",
   "execution_count": 23,
   "metadata": {},
   "outputs": [
    {
     "name": "stdout",
     "output_type": "stream",
     "text": [
      "Variance of followers  3315840662.292079\n",
      "Variance of following  530038.0737588652\n",
      "Variance of posts  27799.001070921993\n"
     ]
    }
   ],
   "source": [
    "#Variance of data\n",
    "\n",
    "print \"Variance of followers \", df['followers'].var()\n",
    "print \"Variance of following \", df['following'].var()\n",
    "print \"Variance of posts \", df['posts'].var()"
   ]
  },
  {
   "cell_type": "code",
   "execution_count": 26,
   "metadata": {},
   "outputs": [
    {
     "name": "stdout",
     "output_type": "stream",
     "text": [
      "standard deviation of followers  57583.336672097066\n",
      "standard deviation of following  728.0371376233943\n",
      "standard deviation of posts  166.7303243891824\n"
     ]
    }
   ],
   "source": [
    "#Standar deviation of data\n",
    "\n",
    "print \"standard deviation of followers \", df['followers'].std()\n",
    "print \"standard deviation of following \", df['following'].std()\n",
    "print \"standard deviation of posts \", df['posts'].std()"
   ]
  },
  {
   "cell_type": "code",
   "execution_count": 27,
   "metadata": {},
   "outputs": [
    {
     "name": "stdout",
     "output_type": "stream",
     "text": [
      "IQR of followers  812.75\n",
      "IQR of following  356.75\n",
      "IQR of posts  32.25\n"
     ]
    }
   ],
   "source": [
    "#Interquartile range of data\n",
    "\n",
    "print \"IQR of followers \", df['followers'].quantile(q=0.75) - df['followers'].quantile(q=0.25)\n",
    "print \"IQR of following \", df['following'].quantile(q=0.75) - df['following'].quantile(q=0.25)\n",
    "print \"IQR of posts \", df['posts'].quantile(q=0.75) - df['posts'].quantile(q=0.25)"
   ]
  },
  {
   "cell_type": "code",
   "execution_count": 31,
   "metadata": {},
   "outputs": [
    {
     "name": "stdout",
     "output_type": "stream",
     "text": [
      "covariance between following and followers  1574227.7469503544\n",
      "covariance between following and posts  27783.459290780134\n",
      "covariance between posts and followers  2572771.5349716316\n"
     ]
    }
   ],
   "source": [
    "#Covariance between data\n",
    "\n",
    "print \"covariance between following and followers \", df['following'].cov(df[\"followers\"])\n",
    "print \"covariance between following and posts \", df['following'].cov(df[\"posts\"])\n",
    "print \"covariance between posts and followers \", df['posts'].cov(df[\"followers\"])"
   ]
  },
  {
   "cell_type": "code",
   "execution_count": 34,
   "metadata": {},
   "outputs": [
    {
     "name": "stdout",
     "output_type": "stream",
     "text": [
      "correlation between following and followers  0.0375506278530271\n",
      "correlation between following and posts  0.2288854519914451\n",
      "correlation between posts and followers  0.2679722362187483\n"
     ]
    }
   ],
   "source": [
    "#Correlation between data\n",
    "\n",
    "print \"correlation between following and followers \", df['following'].corr(df[\"followers\"])\n",
    "print \"correlation between following and posts \", df['following'].corr(df[\"posts\"])\n",
    "print \"correlation between posts and followers \", df['posts'].corr(df[\"followers\"])"
   ]
  },
  {
   "cell_type": "code",
   "execution_count": 35,
   "metadata": {},
   "outputs": [
    {
     "data": {
      "image/png": "[encoded data removed]",
      "text/plain": [
       "<matplotlib.figure.Figure at 0x1125a1d10>"
      ]
     },
     "metadata": {},
     "output_type": "display_data"
    }
   ],
   "source": [
    "plt.boxplot(df['following'])\n",
    "plt.show()"
   ]
  },
  {
   "cell_type": "code",
   "execution_count": 36,
   "metadata": {},
   "outputs": [
    {
     "data": {
      "image/png": "[encoded data removed]",
      "text/plain": [
       "<matplotlib.figure.Figure at 0x1123d6f10>"
      ]
     },
     "metadata": {},
     "output_type": "display_data"
    }
   ],
   "source": [
    "plt.boxplot(df['followers'])\n",
    "plt.show()"
   ]
  },
  {
   "cell_type": "code",
   "execution_count": 37,
   "metadata": {},
   "outputs": [
    {
     "data": {
      "image/png": "[encoded data removed]",
      "text/plain": [
       "<matplotlib.figure.Figure at 0x11225f610>"
      ]
     },
     "metadata": {},
     "output_type": "display_data"
    }
   ],
   "source": [
    "plt.boxplot(df['posts'])\n",
    "plt.show()"
   ]
  },
  {
   "cell_type": "code",
   "execution_count": 38,
   "metadata": {},
   "outputs": [
    {
     "name": "stdout",
     "output_type": "stream",
     "text": [
      "0.0375506278530271\n"
     ]
    },
    {
     "name": "stderr",
     "output_type": "stream",
     "text": [
      "/System/Library/Frameworks/Python.framework/Versions/2.7/Extras/lib/python/matplotlib/collections.py:548: FutureWarning: elementwise comparison failed; returning scalar instead, but in the future will perform elementwise comparison\n",
      "  if self._edgecolors == 'face':\n"
     ]
    },
    {
     "data": {
      "image/png": "[encoded data removed]",
      "text/plain": [
       "<matplotlib.figure.Figure at 0x1125125d0>"
      ]
     },
     "metadata": {},
     "output_type": "display_data"
    }
   ],
   "source": [
    "print df['followers'].corr(df[\"following\"])\n",
    "plt.scatter(df['followers'], df['following'])\n",
    "plt.show()\n"
   ]
  },
  {
   "cell_type": "code",
   "execution_count": 40,
   "metadata": {},
   "outputs": [
    {
     "name": "stdout",
     "output_type": "stream",
     "text": [
      "0.2288854519914451\n"
     ]
    },
    {
     "data": {
      "image/png": "[encoded data removed]",
      "text/plain": [
       "<matplotlib.figure.Figure at 0x1122e9950>"
      ]
     },
     "metadata": {},
     "output_type": "display_data"
    }
   ],
   "source": [
    "print df['following'].corr(df[\"posts\"])\n",
    "plt.scatter(df['following'], df['posts'])\n",
    "plt.show()\n"
   ]
  },
  {
   "cell_type": "code",
   "execution_count": 41,
   "metadata": {},
   "outputs": [
    {
     "name": "stdout",
     "output_type": "stream",
     "text": [
      "0.2679722362187483\n"
     ]
    },
    {
     "data": {
      "image/png": "[encoded data removed]",
      "text/plain": [
       "<matplotlib.figure.Figure at 0x1125a1c90>"
      ]
     },
     "metadata": {},
     "output_type": "display_data"
    }
   ],
   "source": [
    "print df['followers'].corr(df[\"posts\"])\n",
    "plt.scatter(df['followers'], df['posts'])\n",
    "plt.show()\n"
   ]
  },
  {
   "cell_type": "markdown",
   "metadata": {},
   "source": [
    "Dari serangkaian deskripsi data di atas, ada <i> insight </i> yang dapat kita peroleh.\n",
    "<i>Insight </i> tersebut adalah Jumlah <i>followers</i> dan <i>following</i> tidak memiliki korelasi yang signifikan.\n",
    "Berdasarkan penghitungan, korelasi antara kedua kolom tersebut hanya 0.0375506278530271.\n",
    "Menurut pendapat pribadi saya sebagai pengguna media sosial, hal ini mungkin disebabkan karena pengguna yang memiliki jumlah followers sangat banyak (artis) biasanya memiliki jumlah following yang sangat sedikit. Sementera itu pengguna yang memiliki jumlah following sangat banyak (biasanya bot) memiliki followers yang sangat sedikit. Pengguna normal biasanya memiliki jumlah <i>followers</i> dan <i>following</i> yang seimbang karena medsos digunakan sebagaimana mestinya (bukan untuk media promosi -> followers banyak seperti artis dan juga bukan untuk mem-post spam -> follow banyak akun seperti bot)\n",
    "\n",
    "<i>Insight</i> lain yang dapat diperoleh adalah jumlah <i>following</i> dan <i>followers</i> berkorelasi positif terhadap jumlah <i>posts</i>. Hal ini berarti semakin aktif <i>user</i> dalam hal <i>follow</i>-<i>memfollow</i>, maka semakin aktif pula ia dalam membuat <i>post</i>."
   ]
  },
  {
   "cell_type": "code",
   "execution_count": null,
   "metadata": {},
   "outputs": [],
   "source": []
  }
 ],
 "metadata": {
  "kernelspec": {
   "display_name": "Python 2",
   "language": "python",
   "name": "python2"
  },
  "language_info": {
   "codemirror_mode": {
    "name": "ipython",
    "version": 2
   },
   "file_extension": ".py",
   "mimetype": "text/x-python",
   "name": "python",
   "nbconvert_exporter": "python",
   "pygments_lexer": "ipython2",
   "version": "2.7.10"
  }
 },
 "nbformat": 4,
 "nbformat_minor": 2
}
