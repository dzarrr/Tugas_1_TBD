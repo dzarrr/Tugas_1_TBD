{
 "cells": [
  {
   "cell_type": "markdown",
   "metadata": {},
   "source": [
    "Dzar Bela Hanifa\n",
    "<br>\n",
    "13515007\n",
    "<br>\n",
    "Laporan TBD Tugas 2 - What Now, Probability\n",
    "<br>\n",
    "Bahasa : Python 2.7"
   ]
  },
  {
   "cell_type": "markdown",
   "metadata": {},
   "source": [
    "<b>Diketahui bahwa mood seseorang (senang atau sedih) setiap hari memiliki\n",
    "peluang yang sama yaitu 0.5 untuk senang dan 0.5 untuk sedih.\n",
    "Setiap hari diasumsikan moodnya bersifat independen artinya mood hari ini tidak\n",
    "menentukan mood hari esok.\n",
    "\n",
    "Buktikan kebenaran pernyataan dibawah (dengan pengetesan 10000 kali) bahwa:\n",
    "Peluang (kedua hari senang) jika diketahui (hari pertama senang) adalah 0.5.\n",
    "Peluang (kedua hari senang) jika diketahui (setidaknya ada satu hari senang)\n",
    "adalah 0.25</b>"
   ]
  },
  {
   "cell_type": "markdown",
   "metadata": {},
   "source": [
    "Pada soal sepertinya terdapat sedikit kesalahan. \n",
    "Ruang sampel dari percobaan dua hari adalah \n",
    "    T = {senang-sedih, sedih-senang, senang-senang, sedih-sedih}\n",
    "Seharusnya peluang kedua hari senang jika diketahui setidaknya ada satu hari senang adalah\n",
    "    1 / 3 = 0.33"
   ]
  },
  {
   "cell_type": "code",
   "execution_count": 32,
   "metadata": {},
   "outputs": [],
   "source": [
    "import random\n",
    "\n",
    "all_test_result = []\n",
    "\n",
    "for i in range (0, 10000):\n",
    "    day_one = random.choice([\"senang\", \"sedih\"])\n",
    "    day_two = random.choice([\"senang\", \"sedih\"])\n",
    "    all_test_result.append((day_one, day_two))\n"
   ]
  },
  {
   "cell_type": "markdown",
   "metadata": {},
   "source": [
    "Untuk percobaan ini saya menggunakan library <i>random</i>. Library ini digunakan untuk mendapatkan percobaan acak dengan peluang masing-masing 0.5 untuk senang dan sedih"
   ]
  },
  {
   "cell_type": "code",
   "execution_count": 33,
   "metadata": {},
   "outputs": [
    {
     "name": "stdout",
     "output_type": "stream",
     "text": [
      "Jumlah hari pertama senang :  5032\n",
      "Jumlah hari pertama dan kedua senang:  2482\n",
      "0.493243243243\n"
     ]
    }
   ],
   "source": [
    "day_one_happy = 0\n",
    "day_one_and_two_happy = 0\n",
    "\n",
    "for test_result in all_test_result:\n",
    "    if (test_result [0] == 'senang') :\n",
    "        day_one_happy += 1\n",
    "    if (test_result == ('senang', 'senang')):\n",
    "        day_one_and_two_happy += 1\n",
    "\n",
    "print \"Jumlah hari pertama senang : \", day_one_happy\n",
    "print \"Jumlah hari pertama dan kedua senang: \", day_one_and_two_happy\n",
    "print (day_one_and_two_happy / float(day_one_happy))"
   ]
  },
  {
   "cell_type": "markdown",
   "metadata": {},
   "source": [
    "<i>Cell</i> di atas merupakan pembuktian untuk peluang kedua hari senang jika diketahui hari pertama senang. Pertama-tama hitung terlebih dahulu jumlah hasil percobaan yang hari pertamanya senang (P1). Setelah itu cari jumlah hasil percobaan yang hari pertama dan keduanya senang (P2). Peluant kedua hari senang jika diketahui hari pertama senang adalah \n",
    "    P2 / P1 = 2482 / 5032 = 0.493243243243\n",
    "Terbukti bahwa hasil mendekati 0.5"
   ]
  },
  {
   "cell_type": "code",
   "execution_count": 34,
   "metadata": {},
   "outputs": [
    {
     "name": "stdout",
     "output_type": "stream",
     "text": [
      "Jumlah setidaknya salah satu hari senang :  7467\n",
      "Jumlah hari pertama dan kedua senang:  2482\n",
      "0.332395875184\n"
     ]
    }
   ],
   "source": [
    "day_one_and_two_happy = 0\n",
    "day_one_or_two_happy = 0\n",
    "\n",
    "for test_result in all_test_result:\n",
    "    if (test_result [0] == 'senang') or (test_result[1] == 'sedih') :\n",
    "        day_one_or_two_happy += 1\n",
    "    if (test_result == ('senang', 'senang')):\n",
    "        day_one_and_two_happy += 1\n",
    "    \n",
    "print \"Jumlah setidaknya salah satu hari senang : \", day_one_or_two_happy\n",
    "print \"Jumlah hari pertama dan kedua senang: \", day_one_and_two_happy\n",
    "print (day_one_and_two_happy / float(day_one_or_two_happy))"
   ]
  },
  {
   "cell_type": "markdown",
   "metadata": {},
   "source": [
    "<i>Cell</i> di atas merupakan pembuktian untuk peluang kedua hari senang jika diketahui setidaknya salah satu hari senang. Pertama-tama hitung terlebih dahulu jumlah hasil percobaan yang salah satu harinya adalah senang (P1). Setelah itu cari jumlah hasil percobaan yang hari pertama dan keduanya senang (P2). Peluant kedua hari senang jika diketahui hari pertama senang adalah \n",
    "    P2 / P1 = 2482 / 7467 = 0.332395875184\n",
    "Terbukti bahwa hasil mendekati 0.33"
   ]
  },
  {
   "cell_type": "code",
   "execution_count": null,
   "metadata": {},
   "outputs": [],
   "source": []
  }
 ],
 "metadata": {
  "kernelspec": {
   "display_name": "Python 2",
   "language": "python",
   "name": "python2"
  },
  "language_info": {
   "codemirror_mode": {
    "name": "ipython",
    "version": 2
   },
   "file_extension": ".py",
   "mimetype": "text/x-python",
   "name": "python",
   "nbconvert_exporter": "python",
   "pygments_lexer": "ipython2",
   "version": "2.7.10"
  }
 },
 "nbformat": 4,
 "nbformat_minor": 2
}
