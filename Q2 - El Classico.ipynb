{
 "cells": [
  {
   "cell_type": "markdown",
   "metadata": {},
   "source": [
    "<h5>\n",
    "Dzar Bela Hanifa \n",
    "<br>\n",
    "13515007\n",
    "<br>\n",
    "Laporan TBD Tugas Q2 - El Classico\n",
    "<br>\n",
    "Bahasa : Python 2.7\n",
    "</h5>"
   ]
  },
  {
   "cell_type": "markdown",
   "metadata": {},
   "source": [
    "Berikut ini merupakan data hasil pertandingan antara Real Madrid dengan Barcelona\n",
    "\n",
    "\n",
    "| Peristiwa         | Jumlah |\n",
    "|-------------------|--------|\n",
    "| Real Madrid wins  | 95     |\n",
    "| Draws             | 49     |\n",
    "| Barcelona wins    | 92     |\n",
    "| Real Madrid Goals | 398    |\n",
    "| Barcelona Goals   | 384    |\n",
    "| Total Matches     | 236    |\n",
    "\n",
    "| Team        | Home Wins | Home Draws | Home Losses | Other Venue Wins |\n",
    "|-------------|-----------|------------|-------------|------------------|\n",
    "| Real Madrid | 64        | 25         | 28          | 4                |\n",
    "| Barcelona   | 62        | 24         | 27          | 2                |\n",
    "\n",
    "Untuk keperluan percobaan saya akan menyimpan data-data tersebut ke dalam suatu dataframe. Karena tidak ada pembagian yang jelas antara gol yang dicetak (dicetak di home atau away), saya tidak memasukkan data tersebut ke dalam dataframe. Terdapat dua kolom, result yang melambangkan pemenang serta venue yang melambangkan kandang."
   ]
  },
  {
   "cell_type": "code",
   "execution_count": 65,
   "metadata": {},
   "outputs": [
    {
     "data": {
      "text/html": [
       "<div>\n",
       "<style scoped>\n",
       "    .dataframe tbody tr th:only-of-type {\n",
       "        vertical-align: middle;\n",
       "    }\n",
       "\n",
       "    .dataframe tbody tr th {\n",
       "        vertical-align: top;\n",
       "    }\n",
       "\n",
       "    .dataframe thead th {\n",
       "        text-align: right;\n",
       "    }\n",
       "</style>\n",
       "<table border=\"1\" class=\"dataframe\">\n",
       "  <thead>\n",
       "    <tr style=\"text-align: right;\">\n",
       "      <th></th>\n",
       "      <th>result</th>\n",
       "      <th>venue</th>\n",
       "    </tr>\n",
       "  </thead>\n",
       "  <tbody>\n",
       "    <tr>\n",
       "      <th>count</th>\n",
       "      <td>236</td>\n",
       "      <td>236</td>\n",
       "    </tr>\n",
       "    <tr>\n",
       "      <th>unique</th>\n",
       "      <td>3</td>\n",
       "      <td>3</td>\n",
       "    </tr>\n",
       "    <tr>\n",
       "      <th>top</th>\n",
       "      <td>Real Madrid</td>\n",
       "      <td>Real Madrid</td>\n",
       "    </tr>\n",
       "    <tr>\n",
       "      <th>freq</th>\n",
       "      <td>95</td>\n",
       "      <td>117</td>\n",
       "    </tr>\n",
       "  </tbody>\n",
       "</table>\n",
       "</div>"
      ],
      "text/plain": [
       "             result        venue\n",
       "count           236          236\n",
       "unique            3            3\n",
       "top     Real Madrid  Real Madrid\n",
       "freq             95          117"
      ]
     },
     "execution_count": 65,
     "metadata": {},
     "output_type": "execute_result"
    }
   ],
   "source": [
    "%matplotlib inline\n",
    "import pandas as pd\n",
    "import matplotlib.pyplot as plt\n",
    "\n",
    "df = pd.DataFrame(columns =['result', 'venue'])\n",
    "\n",
    "for i in range (0,64):\n",
    "    df = df.append(pd.DataFrame({'result': 'Real Madrid', 'venue': 'Real Madrid'}, index=[0]), ignore_index=True)\n",
    "\n",
    "for i in range (0, 25):    \n",
    "    df = df.append(pd.DataFrame({'result': 'Draw', 'venue': 'Real Madrid'}, index=[0]), ignore_index=True)\n",
    "    \n",
    "for i in range (0, 28):    \n",
    "    df = df.append(pd.DataFrame({'result': 'Barcelona', 'venue': 'Real Madrid'}, index=[0]), ignore_index=True)\n",
    "\n",
    "for i in range (0, 4):\n",
    "    df = df.append(pd.DataFrame({'result': 'Real Madrid', 'venue': 'Other'}, index=[0]), ignore_index=True)\n",
    "    \n",
    "for i in range (0, 62):\n",
    "    df = df.append(pd.DataFrame({'result': 'Barcelona', 'venue': 'Barcelona'}, index=[0]), ignore_index=True)\n",
    "\n",
    "for i in range (0, 24):\n",
    "    df = df.append(pd.DataFrame({'result': 'Draw', 'venue': 'Barcelona'}, index=[0]), ignore_index=True)\n",
    "    \n",
    "for i in range (0, 27):\n",
    "    df = df.append(pd.DataFrame({'result': 'Real Madrid', 'venue': 'Barcelona'}, index=[0]), ignore_index=True)\n",
    "    \n",
    "for i in range (0, 2):\n",
    "    df = df.append(pd.DataFrame({'result': 'Barcelona', 'venue': 'Other'}, index=[0]), ignore_index=True)\n",
    "\n",
    "    \n",
    "df.describe()"
   ]
  },
  {
   "cell_type": "markdown",
   "metadata": {},
   "source": [
    "Berikut merupakan distribusi hasil pertandingan :"
   ]
  },
  {
   "cell_type": "code",
   "execution_count": 45,
   "metadata": {},
   "outputs": [
    {
     "data": {
      "image/png": "[encoded data removed]",
      "text/plain": [
       "<matplotlib.figure.Figure at 0x11552d090>"
      ]
     },
     "metadata": {},
     "output_type": "display_data"
    }
   ],
   "source": [
    "df['result'].value_counts().plot(kind='bar')\n",
    "plt.show()"
   ]
  },
  {
   "cell_type": "markdown",
   "metadata": {},
   "source": [
    "Berikut merupakan distribusi venue pertandingan :"
   ]
  },
  {
   "cell_type": "code",
   "execution_count": 67,
   "metadata": {},
   "outputs": [
    {
     "data": {
      "image/png": "[encoded data removed]",
      "text/plain": [
       "<matplotlib.figure.Figure at 0x115558210>"
      ]
     },
     "metadata": {},
     "output_type": "display_data"
    }
   ],
   "source": [
    "df['venue'].value_counts().plot(kind='bar')\n",
    "plt.show()"
   ]
  },
  {
   "cell_type": "markdown",
   "metadata": {},
   "source": [
    "Saya tertarik dengan peluang tiap-tiap kemungkinan hasil pertandingan (Real Madrid menang, Barcelona menang, serta Draw) jika pertandingan dilaksanakan di kandang Real Madrid. Dengan menggunakan bantuan library <i>sample</i> saya akan mencoba menentukan peluang hasil pertandingan berdasarkan 100 percobaan."
   ]
  },
  {
   "cell_type": "code",
   "execution_count": 68,
   "metadata": {},
   "outputs": [],
   "source": [
    "sample = df.sample(100)        "
   ]
  },
  {
   "cell_type": "markdown",
   "metadata": {},
   "source": [
    "Seratus percobaan yang dilakukan saya peroleh dari dataframe menggunakan library <i>sample</i>"
   ]
  },
  {
   "cell_type": "code",
   "execution_count": 73,
   "metadata": {},
   "outputs": [
    {
     "name": "stdout",
     "output_type": "stream",
     "text": [
      " Jumlah Real Madrid menang 29\n",
      "Jumlah pertandingan di kandang Real Madrid 57\n",
      "0.508771929825\n"
     ]
    }
   ],
   "source": [
    "real_madrid_home = 0\n",
    "real_madrid_win = 0\n",
    "for index, match_result in sample.iterrows():\n",
    "    if match_result['venue'] == 'Real Madrid' :\n",
    "        real_madrid_home += 1\n",
    "        if match_result['result'] == 'Real Madrid' :\n",
    "            real_madrid_win += 1\n",
    "        \n",
    "print \"Jumlah Real Madrid menang\", real_madrid_win\n",
    "print \"Jumlah pertandingan di kandang Real Madrid\", real_madrid_home\n",
    "print real_madrid_win / float(real_madrid_home)"
   ]
  },
  {
   "cell_type": "markdown",
   "metadata": {},
   "source": [
    "<i>Cell</i> di atas merupakan peluang Real Madrid menang apabila pertandingan dilaksanakan di kandang Real Madrid. Dari 100 kali percobaan, pertandingan dilaksanakan di kandang Real Madrid 57 kali dan Real Madrid menang 29 kali. Peluangnya adalah 0.508771929825\n"
   ]
  },
  {
   "cell_type": "code",
   "execution_count": 77,
   "metadata": {},
   "outputs": [
    {
     "name": "stdout",
     "output_type": "stream",
     "text": [
      "Jumlah Real Madrid kalah 15\n",
      "Jumlah pertandingan di kandang Real Madrid 57\n",
      "0.263157894737\n"
     ]
    }
   ],
   "source": [
    "real_madrid_home = 0\n",
    "barcelona_win = 0\n",
    "for index, match_result in sample.iterrows():\n",
    "    if match_result['venue'] == 'Real Madrid' :\n",
    "        real_madrid_home += 1\n",
    "        if match_result['result'] == 'Barcelona' :\n",
    "            barcelona_win += 1\n",
    "        \n",
    "print \"Jumlah Real Madrid kalah\", barcelona_win\n",
    "print \"Jumlah pertandingan di kandang Real Madrid\", real_madrid_home\n",
    "print barcelona_win / float(real_madrid_home)\n",
    "        "
   ]
  },
  {
   "cell_type": "markdown",
   "metadata": {},
   "source": [
    "<i>Cell</i> di atas merupakan peluang Real Madrid kalah apabila pertandingan dilaksanakan di kandang Real Madrid. Dari 100 kali percobaan, pertandingan dilaksanakan di kandang Real Madrid 57 kali dan Real Madrid kalah 15 kali. Peluangnya adalah 0.263157894737\n",
    "\n"
   ]
  },
  {
   "cell_type": "code",
   "execution_count": 78,
   "metadata": {},
   "outputs": [
    {
     "name": "stdout",
     "output_type": "stream",
     "text": [
      "Jumlah Real Madrid seri 13\n",
      "Jumlah pertandingan di kandang Real Madrid 57\n",
      "0.228070175439\n"
     ]
    }
   ],
   "source": [
    "real_madrid_home = 0\n",
    "draw = 0\n",
    "for index, match_result in sample.iterrows():\n",
    "    if match_result['venue'] == 'Real Madrid' :\n",
    "        real_madrid_home += 1\n",
    "        if match_result['result'] == 'Draw' :\n",
    "            draw += 1\n",
    "        \n",
    "print \"Jumlah Real Madrid seri\", draw\n",
    "print \"Jumlah pertandingan di kandang Real Madrid\", real_madrid_home\n",
    "print draw / float(real_madrid_home)\n",
    "        "
   ]
  },
  {
   "cell_type": "markdown",
   "metadata": {},
   "source": [
    "<i>Cell</i> di atas merupakan peluang Real Madrid seri apabila pertandingan dilaksanakan di kandang Real Madrid. Dari 100 kali percobaan, pertandingan dilaksanakan di kandang Real Madrid 57 kali dan Real Madrid seri 13 kali. Peluangnya adalah 0.228070175439\n",
    "\n",
    "\n"
   ]
  },
  {
   "cell_type": "code",
   "execution_count": null,
   "metadata": {},
   "outputs": [],
   "source": []
  }
 ],
 "metadata": {
  "kernelspec": {
   "display_name": "Python 2",
   "language": "python",
   "name": "python2"
  },
  "language_info": {
   "codemirror_mode": {
    "name": "ipython",
    "version": 2
   },
   "file_extension": ".py",
   "mimetype": "text/x-python",
   "name": "python",
   "nbconvert_exporter": "python",
   "pygments_lexer": "ipython2",
   "version": "2.7.10"
  }
 },
 "nbformat": 4,
 "nbformat_minor": 2
}
