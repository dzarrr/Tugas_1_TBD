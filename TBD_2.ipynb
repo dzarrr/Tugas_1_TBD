{
 "cells": [
  {
   "cell_type": "code",
   "execution_count": 1,
   "metadata": {},
   "outputs": [
    {
     "ename": "IOError",
     "evalue": "[Errno 2] No such file or directory: 'MY_IELTS.txt'",
     "output_type": "error",
     "traceback": [
      "\u001b[0;31m---------------------------------------------------------------------------\u001b[0m",
      "\u001b[0;31mIOError\u001b[0m                                   Traceback (most recent call last)",
      "\u001b[0;32m<ipython-input-1-f6e2e882dba6>\u001b[0m in \u001b[0;36m<module>\u001b[0;34m()\u001b[0m\n\u001b[1;32m      5\u001b[0m \u001b[0;34m\u001b[0m\u001b[0m\n\u001b[1;32m      6\u001b[0m \u001b[0mstop_word\u001b[0m \u001b[0;34m=\u001b[0m \u001b[0;34m[\u001b[0m\u001b[0;34m\"i\"\u001b[0m\u001b[0;34m,\u001b[0m \u001b[0;34m\"me\"\u001b[0m\u001b[0;34m,\u001b[0m \u001b[0;34m\"my\"\u001b[0m\u001b[0;34m,\u001b[0m \u001b[0;34m\"myself\"\u001b[0m\u001b[0;34m,\u001b[0m \u001b[0;34m\"we\"\u001b[0m\u001b[0;34m,\u001b[0m \u001b[0;34m\"our\"\u001b[0m\u001b[0;34m,\u001b[0m \u001b[0;34m\"ours\"\u001b[0m\u001b[0;34m,\u001b[0m \u001b[0;34m\"ourselves\"\u001b[0m\u001b[0;34m,\u001b[0m \u001b[0;34m\"you\"\u001b[0m\u001b[0;34m,\u001b[0m \u001b[0;34m\"your\"\u001b[0m\u001b[0;34m,\u001b[0m \u001b[0;34m\"yours\"\u001b[0m\u001b[0;34m,\u001b[0m \u001b[0;34m\"yourself\"\u001b[0m\u001b[0;34m,\u001b[0m \u001b[0;34m\"yourselves\"\u001b[0m\u001b[0;34m,\u001b[0m \u001b[0;34m\"he\"\u001b[0m\u001b[0;34m,\u001b[0m \u001b[0;34m\"him\"\u001b[0m\u001b[0;34m,\u001b[0m \u001b[0;34m\"his\"\u001b[0m\u001b[0;34m,\u001b[0m \u001b[0;34m\"himself\"\u001b[0m\u001b[0;34m,\u001b[0m \u001b[0;34m\"she\"\u001b[0m\u001b[0;34m,\u001b[0m \u001b[0;34m\"her\"\u001b[0m\u001b[0;34m,\u001b[0m \u001b[0;34m\"hers\"\u001b[0m\u001b[0;34m,\u001b[0m \u001b[0;34m\"herself\"\u001b[0m\u001b[0;34m,\u001b[0m \u001b[0;34m\"it\"\u001b[0m\u001b[0;34m,\u001b[0m \u001b[0;34m\"its\"\u001b[0m\u001b[0;34m,\u001b[0m \u001b[0;34m\"itself\"\u001b[0m\u001b[0;34m,\u001b[0m \u001b[0;34m\"they\"\u001b[0m\u001b[0;34m,\u001b[0m \u001b[0;34m\"them\"\u001b[0m\u001b[0;34m,\u001b[0m \u001b[0;34m\"their\"\u001b[0m\u001b[0;34m,\u001b[0m \u001b[0;34m\"theirs\"\u001b[0m\u001b[0;34m,\u001b[0m \u001b[0;34m\"themselves\"\u001b[0m\u001b[0;34m,\u001b[0m \u001b[0;34m\"what\"\u001b[0m\u001b[0;34m,\u001b[0m \u001b[0;34m\"which\"\u001b[0m\u001b[0;34m,\u001b[0m \u001b[0;34m\"who\"\u001b[0m\u001b[0;34m,\u001b[0m \u001b[0;34m\"whom\"\u001b[0m\u001b[0;34m,\u001b[0m \u001b[0;34m\"this\"\u001b[0m\u001b[0;34m,\u001b[0m \u001b[0;34m\"that\"\u001b[0m\u001b[0;34m,\u001b[0m \u001b[0;34m\"these\"\u001b[0m\u001b[0;34m,\u001b[0m \u001b[0;34m\"those\"\u001b[0m\u001b[0;34m,\u001b[0m \u001b[0;34m\"am\"\u001b[0m\u001b[0;34m,\u001b[0m \u001b[0;34m\"is\"\u001b[0m\u001b[0;34m,\u001b[0m \u001b[0;34m\"are\"\u001b[0m\u001b[0;34m,\u001b[0m \u001b[0;34m\"was\"\u001b[0m\u001b[0;34m,\u001b[0m \u001b[0;34m\"were\"\u001b[0m\u001b[0;34m,\u001b[0m \u001b[0;34m\"be\"\u001b[0m\u001b[0;34m,\u001b[0m \u001b[0;34m\"been\"\u001b[0m\u001b[0;34m,\u001b[0m \u001b[0;34m\"being\"\u001b[0m\u001b[0;34m,\u001b[0m \u001b[0;34m\"have\"\u001b[0m\u001b[0;34m,\u001b[0m \u001b[0;34m\"has\"\u001b[0m\u001b[0;34m,\u001b[0m \u001b[0;34m\"had\"\u001b[0m\u001b[0;34m,\u001b[0m \u001b[0;34m\"having\"\u001b[0m\u001b[0;34m,\u001b[0m \u001b[0;34m\"do\"\u001b[0m\u001b[0;34m,\u001b[0m \u001b[0;34m\"does\"\u001b[0m\u001b[0;34m,\u001b[0m \u001b[0;34m\"did\"\u001b[0m\u001b[0;34m,\u001b[0m \u001b[0;34m\"doing\"\u001b[0m\u001b[0;34m,\u001b[0m \u001b[0;34m\"a\"\u001b[0m\u001b[0;34m,\u001b[0m \u001b[0;34m\"an\"\u001b[0m\u001b[0;34m,\u001b[0m \u001b[0;34m\"the\"\u001b[0m\u001b[0;34m,\u001b[0m \u001b[0;34m\"and\"\u001b[0m\u001b[0;34m,\u001b[0m \u001b[0;34m\"but\"\u001b[0m\u001b[0;34m,\u001b[0m \u001b[0;34m\"if\"\u001b[0m\u001b[0;34m,\u001b[0m \u001b[0;34m\"or\"\u001b[0m\u001b[0;34m,\u001b[0m \u001b[0;34m\"because\"\u001b[0m\u001b[0;34m,\u001b[0m \u001b[0;34m\"as\"\u001b[0m\u001b[0;34m,\u001b[0m \u001b[0;34m\"until\"\u001b[0m\u001b[0;34m,\u001b[0m \u001b[0;34m\"while\"\u001b[0m\u001b[0;34m,\u001b[0m \u001b[0;34m\"of\"\u001b[0m\u001b[0;34m,\u001b[0m \u001b[0;34m\"at\"\u001b[0m\u001b[0;34m,\u001b[0m \u001b[0;34m\"by\"\u001b[0m\u001b[0;34m,\u001b[0m \u001b[0;34m\"for\"\u001b[0m\u001b[0;34m,\u001b[0m \u001b[0;34m\"with\"\u001b[0m\u001b[0;34m,\u001b[0m \u001b[0;34m\"about\"\u001b[0m\u001b[0;34m,\u001b[0m \u001b[0;34m\"against\"\u001b[0m\u001b[0;34m,\u001b[0m \u001b[0;34m\"between\"\u001b[0m\u001b[0;34m,\u001b[0m \u001b[0;34m\"into\"\u001b[0m\u001b[0;34m,\u001b[0m \u001b[0;34m\"through\"\u001b[0m\u001b[0;34m,\u001b[0m \u001b[0;34m\"during\"\u001b[0m\u001b[0;34m,\u001b[0m \u001b[0;34m\"before\"\u001b[0m\u001b[0;34m,\u001b[0m \u001b[0;34m\"after\"\u001b[0m\u001b[0;34m,\u001b[0m \u001b[0;34m\"above\"\u001b[0m\u001b[0;34m,\u001b[0m \u001b[0;34m\"below\"\u001b[0m\u001b[0;34m,\u001b[0m \u001b[0;34m\"to\"\u001b[0m\u001b[0;34m,\u001b[0m \u001b[0;34m\"from\"\u001b[0m\u001b[0;34m,\u001b[0m \u001b[0;34m\"up\"\u001b[0m\u001b[0;34m,\u001b[0m \u001b[0;34m\"down\"\u001b[0m\u001b[0;34m,\u001b[0m \u001b[0;34m\"in\"\u001b[0m\u001b[0;34m,\u001b[0m \u001b[0;34m\"out\"\u001b[0m\u001b[0;34m,\u001b[0m \u001b[0;34m\"on\"\u001b[0m\u001b[0;34m,\u001b[0m \u001b[0;34m\"off\"\u001b[0m\u001b[0;34m,\u001b[0m \u001b[0;34m\"over\"\u001b[0m\u001b[0;34m,\u001b[0m \u001b[0;34m\"under\"\u001b[0m\u001b[0;34m,\u001b[0m \u001b[0;34m\"again\"\u001b[0m\u001b[0;34m,\u001b[0m \u001b[0;34m\"further\"\u001b[0m\u001b[0;34m,\u001b[0m \u001b[0;34m\"then\"\u001b[0m\u001b[0;34m,\u001b[0m \u001b[0;34m\"once\"\u001b[0m\u001b[0;34m,\u001b[0m \u001b[0;34m\"here\"\u001b[0m\u001b[0;34m,\u001b[0m \u001b[0;34m\"there\"\u001b[0m\u001b[0;34m,\u001b[0m \u001b[0;34m\"when\"\u001b[0m\u001b[0;34m,\u001b[0m \u001b[0;34m\"where\"\u001b[0m\u001b[0;34m,\u001b[0m \u001b[0;34m\"why\"\u001b[0m\u001b[0;34m,\u001b[0m \u001b[0;34m\"how\"\u001b[0m\u001b[0;34m,\u001b[0m \u001b[0;34m\"all\"\u001b[0m\u001b[0;34m,\u001b[0m \u001b[0;34m\"any\"\u001b[0m\u001b[0;34m,\u001b[0m \u001b[0;34m\"both\"\u001b[0m\u001b[0;34m,\u001b[0m \u001b[0;34m\"each\"\u001b[0m\u001b[0;34m,\u001b[0m \u001b[0;34m\"few\"\u001b[0m\u001b[0;34m,\u001b[0m \u001b[0;34m\"more\"\u001b[0m\u001b[0;34m,\u001b[0m \u001b[0;34m\"most\"\u001b[0m\u001b[0;34m,\u001b[0m \u001b[0;34m\"other\"\u001b[0m\u001b[0;34m,\u001b[0m \u001b[0;34m\"some\"\u001b[0m\u001b[0;34m,\u001b[0m \u001b[0;34m\"such\"\u001b[0m\u001b[0;34m,\u001b[0m \u001b[0;34m\"no\"\u001b[0m\u001b[0;34m,\u001b[0m \u001b[0;34m\"nor\"\u001b[0m\u001b[0;34m,\u001b[0m \u001b[0;34m\"not\"\u001b[0m\u001b[0;34m,\u001b[0m \u001b[0;34m\"only\"\u001b[0m\u001b[0;34m,\u001b[0m \u001b[0;34m\"own\"\u001b[0m\u001b[0;34m,\u001b[0m \u001b[0;34m\"same\"\u001b[0m\u001b[0;34m,\u001b[0m \u001b[0;34m\"so\"\u001b[0m\u001b[0;34m,\u001b[0m \u001b[0;34m\"than\"\u001b[0m\u001b[0;34m,\u001b[0m \u001b[0;34m\"too\"\u001b[0m\u001b[0;34m,\u001b[0m \u001b[0;34m\"very\"\u001b[0m\u001b[0;34m,\u001b[0m \u001b[0;34m\"s\"\u001b[0m\u001b[0;34m,\u001b[0m \u001b[0;34m\"t\"\u001b[0m\u001b[0;34m,\u001b[0m \u001b[0;34m\"can\"\u001b[0m\u001b[0;34m,\u001b[0m \u001b[0;34m\"will\"\u001b[0m\u001b[0;34m,\u001b[0m \u001b[0;34m\"just\"\u001b[0m\u001b[0;34m,\u001b[0m \u001b[0;34m\"don\"\u001b[0m\u001b[0;34m,\u001b[0m \u001b[0;34m\"should\"\u001b[0m\u001b[0;34m,\u001b[0m \u001b[0;34m\"now\"\u001b[0m\u001b[0;34m]\u001b[0m\u001b[0;34m\u001b[0m\u001b[0m\n\u001b[0;32m----> 7\u001b[0;31m \u001b[0mdataset\u001b[0m \u001b[0;34m=\u001b[0m \u001b[0mopen\u001b[0m\u001b[0;34m(\u001b[0m\u001b[0;34m\"MY_IELTS.txt\"\u001b[0m\u001b[0;34m,\u001b[0m \u001b[0;34m\"r\"\u001b[0m\u001b[0;34m)\u001b[0m\u001b[0;34m\u001b[0m\u001b[0m\n\u001b[0m\u001b[1;32m      8\u001b[0m \u001b[0mwordlist\u001b[0m \u001b[0;34m=\u001b[0m \u001b[0;34m[\u001b[0m\u001b[0;34m]\u001b[0m\u001b[0;34m\u001b[0m\u001b[0m\n\u001b[1;32m      9\u001b[0m \u001b[0munique_word\u001b[0m \u001b[0;34m=\u001b[0m \u001b[0;34m[\u001b[0m\u001b[0;34m]\u001b[0m\u001b[0;34m\u001b[0m\u001b[0m\n",
      "\u001b[0;31mIOError\u001b[0m: [Errno 2] No such file or directory: 'MY_IELTS.txt'"
     ]
    }
   ],
   "source": [
    "%matplotlib inline\n",
    "\n",
    "import pandas as pd\n",
    "import matplotlib.pyplot as plt\n",
    "\n",
    "stop_word = [\"i\", \"me\", \"my\", \"myself\", \"we\", \"our\", \"ours\", \"ourselves\", \"you\", \"your\", \"yours\", \"yourself\", \"yourselves\", \"he\", \"him\", \"his\", \"himself\", \"she\", \"her\", \"hers\", \"herself\", \"it\", \"its\", \"itself\", \"they\", \"them\", \"their\", \"theirs\", \"themselves\", \"what\", \"which\", \"who\", \"whom\", \"this\", \"that\", \"these\", \"those\", \"am\", \"is\", \"are\", \"was\", \"were\", \"be\", \"been\", \"being\", \"have\", \"has\", \"had\", \"having\", \"do\", \"does\", \"did\", \"doing\", \"a\", \"an\", \"the\", \"and\", \"but\", \"if\", \"or\", \"because\", \"as\", \"until\", \"while\", \"of\", \"at\", \"by\", \"for\", \"with\", \"about\", \"against\", \"between\", \"into\", \"through\", \"during\", \"before\", \"after\", \"above\", \"below\", \"to\", \"from\", \"up\", \"down\", \"in\", \"out\", \"on\", \"off\", \"over\", \"under\", \"again\", \"further\", \"then\", \"once\", \"here\", \"there\", \"when\", \"where\", \"why\", \"how\", \"all\", \"any\", \"both\", \"each\", \"few\", \"more\", \"most\", \"other\", \"some\", \"such\", \"no\", \"nor\", \"not\", \"only\", \"own\", \"same\", \"so\", \"than\", \"too\", \"very\", \"s\", \"t\", \"can\", \"will\", \"just\", \"don\", \"should\", \"now\"]\n",
    "dataset = open(\"MY_IELTS.txt\", \"r\")\n",
    "wordlist = []\n",
    "unique_word = []\n",
    "for line in dataset:\n",
    "    word_in_line = line.split(' ')\n",
    "    for word in word_in_line:\n",
    "        word = word.lower()\n",
    "        word = word.replace(\".\", '')\n",
    "        word = word.replace(\"\\r\\n\", '')\n",
    "        word = word.replace(\",\", '')\n",
    "        if (word != '') and (word not in stop_word):\n",
    "            wordlist.append(word.lower())\n",
    "            if word not in unique_word:\n",
    "                unique_word.append(word)\n",
    "word_and_freq = []\n",
    "for word in unique_word:\n",
    "    word_and_freq.append((word, wordlist.count(word)))\n",
    "\n",
    "word_df = pd.DataFrame(word_and_freq, columns=[\"word\", \"frequency\"])\n",
    "plt.figure(figsize=(20,10))\n",
    "word_df.plot(kind='bar', x='word')\n",
    "plt.show()"
   ]
  },
  {
   "cell_type": "code",
   "execution_count": null,
   "metadata": {},
   "outputs": [],
   "source": []
  },
  {
   "cell_type": "code",
   "execution_count": null,
   "metadata": {},
   "outputs": [],
   "source": []
  }
 ],
 "metadata": {
  "kernelspec": {
   "display_name": "Python 2",
   "language": "python",
   "name": "python2"
  },
  "language_info": {
   "codemirror_mode": {
    "name": "ipython",
    "version": 2
   },
   "file_extension": ".py",
   "mimetype": "text/x-python",
   "name": "python",
   "nbconvert_exporter": "python",
   "pygments_lexer": "ipython2",
   "version": "2.7.10"
  }
 },
 "nbformat": 4,
 "nbformat_minor": 2
}
