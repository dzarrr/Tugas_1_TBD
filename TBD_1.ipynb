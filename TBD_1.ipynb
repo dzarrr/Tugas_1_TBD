{
 "cells": [
  {
   "cell_type": "code",
   "execution_count": 1,
   "metadata": {},
   "outputs": [],
   "source": [
    "%matplotlib inline\n",
    "\n",
    "import pandas as pd\n",
    "import matplotlib.pyplot as plt\n",
    "\n",
    "\n",
    "data = open(\"dataSourceStatistic.txt\", \"r\")\n",
    "numbers = \"0123456789.\"\n",
    "num_friends = []\n",
    "daily_minutes = []\n",
    "count_line = 0\n",
    "for line in data:\n",
    "    if count_line == 0:\n",
    "        num_friends = line\n",
    "    elif count_line == 2:\n",
    "        daily_minutes = line\n",
    "    count_line += 1\n",
    "    \n"
   ]
  },
  {
   "cell_type": "markdown",
   "metadata": {},
   "source": [
    "Pertama-tama, data yang diperoleh akan dibersihkan terlebih dahulu dari karakter-karakter lain yang bukan merupakan angka"
   ]
  },
  {
   "cell_type": "code",
   "execution_count": 2,
   "metadata": {},
   "outputs": [
    {
     "name": "stdout",
     "output_type": "stream",
     "text": [
      "[100, 49, 41, 40, 25, 21, 21, 19, 19, 18, 18, 16, 15, 15, 15, 15, 14, 14, 13, 13, 13, 13, 12, 12, 11, 10, 10, 10, 10, 10, 10, 10, 10, 10, 10, 10, 10, 10, 10, 10, 9, 9, 9, 9, 9, 9, 9, 9, 9, 9, 9, 9, 9, 9, 9, 9, 9, 9, 8, 8, 8, 8, 8, 8, 8, 8, 8, 8, 8, 8, 8, 7, 7, 7, 7, 7, 7, 7, 7, 7, 7, 7, 7, 7, 7, 7, 6, 6, 6, 6, 6, 6, 6, 6, 6, 6, 6, 6, 6, 6, 6, 6, 6, 6, 6, 6, 6, 6, 5, 5, 5, 5, 5, 5, 5, 5, 5, 5, 5, 5, 5, 5, 5, 5, 5, 4, 4, 4, 4, 4, 4, 4, 4, 4, 4, 4, 4, 4, 4, 4, 4, 4, 4, 4, 4, 3, 3, 3, 3, 3, 3, 3, 3, 3, 3, 3, 3, 3, 3, 3, 3, 3, 3, 3, 3, 2, 2, 2, 2, 2, 2, 2, 2, 2, 2, 2, 2, 2, 2, 2, 2, 2, 1, 1, 1, 1, 1, 1, 1, 1, 1, 1, 1, 1, 1, 1, 1, 1, 1, 1, 1, 1, 1, 1]\n"
     ]
    }
   ],
   "source": [
    "num_friends = num_friends.split(\",\")\n",
    "clean_num_friends = []\n",
    "unique_clean_num_friends = []\n",
    "\n",
    "for elements in num_friends :\n",
    "    current_elements = \"\"\n",
    "    for char in elements:\n",
    "        if char in numbers:\n",
    "            current_elements += char\n",
    "    clean_num_friends.append(int(current_elements))\n",
    "    \n",
    "num_friends = clean_num_friends\n",
    "\n",
    "daily_minutes = daily_minutes.split(\",\")\n",
    "clean_daily_minutes = []\n",
    "unique_clean_daily_minutes = []\n",
    "\n",
    "for elements in daily_minutes :\n",
    "    current_elements = \"\"\n",
    "    for char in elements:\n",
    "        if char in numbers:\n",
    "            current_elements += char\n",
    "    clean_daily_minutes.append(float(current_elements))\n",
    "    \n",
    "daily_minutes = clean_daily_minutes\n",
    "print num_friends"
   ]
  },
  {
   "cell_type": "markdown",
   "metadata": {},
   "source": [
    "Setelah itu, akan dibuat dataframe menggunakan bantuan library pandas"
   ]
  },
  {
   "cell_type": "code",
   "execution_count": 3,
   "metadata": {},
   "outputs": [],
   "source": [
    "#Create dataframe based on daily_minutes and num_friends\n",
    "\n",
    "df = pd.DataFrame()\n",
    "df['daily_minutes'] = clean_daily_minutes\n",
    "df['num_friends'] = clean_num_friends"
   ]
  },
  {
   "cell_type": "code",
   "execution_count": 4,
   "metadata": {},
   "outputs": [
    {
     "name": "stdout",
     "output_type": "stream",
     "text": [
      "largest value in num_friends: 100\n",
      "smallest value in num_friends: 1\n"
     ]
    }
   ],
   "source": [
    "#Largest and smallest value in num_friends\n",
    "\n",
    "print \"largest value in num_friends:\", max(df['num_friends'])\n",
    "print \"smallest value in num_friends:\", min(df['num_friends'])"
   ]
  },
  {
   "cell_type": "code",
   "execution_count": 5,
   "metadata": {},
   "outputs": [
    {
     "name": "stdout",
     "output_type": "stream",
     "text": [
      "second largest value in num_friends 49\n",
      "second smallest value in num_friends 2\n"
     ]
    }
   ],
   "source": [
    "#Second Largest and Second Smallest value in num_friends\n",
    "\n",
    "print \"second largest value in num_friends\", sorted(list(set(df['num_friends'])), reverse=True)[1]\n",
    "print \"second smallest value in num_friends\", sorted(list(set(df['num_friends']))) [1]"
   ]
  },
  {
   "cell_type": "code",
   "execution_count": 6,
   "metadata": {},
   "outputs": [
    {
     "name": "stdout",
     "output_type": "stream",
     "text": [
      "7.333333333333333\n"
     ]
    }
   ],
   "source": [
    "#Mean of num_friends\n",
    "\n",
    "print df['num_friends'].mean()"
   ]
  },
  {
   "cell_type": "code",
   "execution_count": 7,
   "metadata": {},
   "outputs": [
    {
     "name": "stdout",
     "output_type": "stream",
     "text": [
      "6.0\n"
     ]
    }
   ],
   "source": [
    "#Median of num_friends\n",
    "\n",
    "print df['num_friends'].median()"
   ]
  },
  {
   "cell_type": "code",
   "execution_count": 8,
   "metadata": {},
   "outputs": [
    {
     "name": "stdout",
     "output_type": "stream",
     "text": [
      "0.1 Quantile :  1.0\n",
      "0.25 Quantile :  3.0\n",
      "0.75 Quantile :  9.0\n",
      "0.90 Quantile :  13.0\n"
     ]
    }
   ],
   "source": [
    "#Quantile of num_friends\n",
    "\n",
    "print \"0.1 Quantile : \", df['num_friends'].quantile(q=0.1)\n",
    "print \"0.25 Quantile : \", df['num_friends'].quantile(q=0.25)\n",
    "print \"0.75 Quantile : \", df['num_friends'].quantile(q=0.75)\n",
    "print \"0.90 Quantile : \", df['num_friends'].quantile(q=0.90)"
   ]
  },
  {
   "cell_type": "code",
   "execution_count": 9,
   "metadata": {},
   "outputs": [
    {
     "name": "stdout",
     "output_type": "stream",
     "text": [
      "1\n",
      "6\n"
     ]
    }
   ],
   "source": [
    "#Mode of num_friends\n",
    "\n",
    "for elements in df['num_friends'].mode():\n",
    "    print elements"
   ]
  },
  {
   "cell_type": "code",
   "execution_count": 10,
   "metadata": {},
   "outputs": [
    {
     "data": {
      "text/plain": [
       "99"
      ]
     },
     "execution_count": 10,
     "metadata": {},
     "output_type": "execute_result"
    }
   ],
   "source": [
    "#Data range of num_friends\n",
    "\n",
    "max(df['num_friends']) - min(df['num_friends'])"
   ]
  },
  {
   "cell_type": "code",
   "execution_count": 11,
   "metadata": {},
   "outputs": [
    {
     "data": {
      "text/plain": [
       "81.54351395730707"
      ]
     },
     "execution_count": 11,
     "metadata": {},
     "output_type": "execute_result"
    }
   ],
   "source": [
    "#Variance of num_friends\n",
    "\n",
    "df['num_friends'].var()"
   ]
  },
  {
   "cell_type": "code",
   "execution_count": 12,
   "metadata": {},
   "outputs": [
    {
     "data": {
      "text/plain": [
       "9.030144736232474"
      ]
     },
     "execution_count": 12,
     "metadata": {},
     "output_type": "execute_result"
    }
   ],
   "source": [
    "#Standar deviation of num_friends\n",
    "\n",
    "df['num_friends'].std()"
   ]
  },
  {
   "cell_type": "code",
   "execution_count": 13,
   "metadata": {},
   "outputs": [
    {
     "data": {
      "text/plain": [
       "6.0"
      ]
     },
     "execution_count": 13,
     "metadata": {},
     "output_type": "execute_result"
    }
   ],
   "source": [
    "#Interquartile range of num_friends\n",
    "\n",
    "df['num_friends'].quantile(q=0.75) - df['num_friends'].quantile(q=0.25)"
   ]
  },
  {
   "cell_type": "code",
   "execution_count": 14,
   "metadata": {},
   "outputs": [
    {
     "data": {
      "text/plain": [
       "22.425435139573054"
      ]
     },
     "execution_count": 14,
     "metadata": {},
     "output_type": "execute_result"
    }
   ],
   "source": [
    "#Covariance between num_friends and daily_minutes\n",
    "\n",
    "df['num_friends'].cov(df[\"daily_minutes\"])"
   ]
  },
  {
   "cell_type": "code",
   "execution_count": 15,
   "metadata": {},
   "outputs": [
    {
     "name": "stdout",
     "output_type": "stream",
     "text": [
      "<type 'numpy.float64'>\n"
     ]
    }
   ],
   "source": [
    "#Correlation between num_friends and daily_minutes\n",
    "\n",
    "df['num_friends'].corr(df[\"daily_minutes\"])\n",
    "print type(df['daily_minutes'][1])"
   ]
  },
  {
   "cell_type": "code",
   "execution_count": 16,
   "metadata": {},
   "outputs": [
    {
     "name": "stderr",
     "output_type": "stream",
     "text": [
      "/System/Library/Frameworks/Python.framework/Versions/2.7/Extras/lib/python/matplotlib/collections.py:548: FutureWarning: elementwise comparison failed; returning scalar instead, but in the future will perform elementwise comparison\n",
      "  if self._edgecolors == 'face':\n"
     ]
    },
    {
     "data": {
      "image/png": "[encoded data removed]",
      "text/plain": [
       "<matplotlib.figure.Figure at 0x10ad15f10>"
      ]
     },
     "metadata": {},
     "output_type": "display_data"
    }
   ],
   "source": [
    "df.plot.scatter(x='num_friends', y='daily_minutes');"
   ]
  },
  {
   "cell_type": "markdown",
   "metadata": {},
   "source": [
    "Dapat dilihat dari plot di atas terdapat sebuah data yang nilai num_friendsnya merupakan pencilan. Data tersebut adalah data dengan num_friends bernilai 100. Mari kita periksa distribusi num_friends menggunakan boxplot diagram."
   ]
  },
  {
   "cell_type": "code",
   "execution_count": 17,
   "metadata": {},
   "outputs": [
    {
     "data": {
      "text/plain": [
       "<matplotlib.axes.AxesSubplot at 0x10ce99410>"
      ]
     },
     "execution_count": 17,
     "metadata": {},
     "output_type": "execute_result"
    },
    {
     "data": {
      "image/png": "[encoded data removed]",
      "text/plain": [
       "<matplotlib.figure.Figure at 0x10ce899d0>"
      ]
     },
     "metadata": {},
     "output_type": "display_data"
    }
   ],
   "source": [
    "df['num_friends'].plot(kind='box')"
   ]
  },
  {
   "cell_type": "markdown",
   "metadata": {},
   "source": [
    "Dapat kita lihat dari distribusi data tersebut terdapat beberapa data yang merupakan pencilan (di luar fence dari boxplot). Akan tetapi ada satu data yang merupakan pencilan ekstrem yaitu data dengan nilai num_friends 100. Oleh karena itu, data tersebut akan dihapus agar distribusi menggunakan scatter plot lebih terlihat"
   ]
  },
  {
   "cell_type": "code",
   "execution_count": 18,
   "metadata": {},
   "outputs": [],
   "source": [
    "df = df[df.num_friends != 100]"
   ]
  },
  {
   "cell_type": "code",
   "execution_count": 19,
   "metadata": {},
   "outputs": [
    {
     "data": {
      "image/png": "[encoded data removed]",
      "text/plain": [
       "<matplotlib.figure.Figure at 0x1020c1510>"
      ]
     },
     "metadata": {},
     "output_type": "display_data"
    }
   ],
   "source": [
    "df.plot.scatter(x='num_friends', y='daily_minutes');"
   ]
  },
  {
   "cell_type": "markdown",
   "metadata": {},
   "source": [
    "Setelah data dengan num_friends bernilai 100 dibuang, distribusi data terlihat dengan lebih jelas. Insight yang dapat kita peroleh dari plot ini adalah terdapat suatu relasi antara num_friends dengan daily_minutes. Relasi tersebut berbentuk hubungan logaritmik."
   ]
  },
  {
   "cell_type": "code",
   "execution_count": null,
   "metadata": {},
   "outputs": [],
   "source": []
  }
 ],
 "metadata": {
  "kernelspec": {
   "display_name": "Python 2",
   "language": "python",
   "name": "python2"
  },
  "language_info": {
   "codemirror_mode": {
    "name": "ipython",
    "version": 2
   },
   "file_extension": ".py",
   "mimetype": "text/x-python",
   "name": "python",
   "nbconvert_exporter": "python",
   "pygments_lexer": "ipython2",
   "version": "2.7.10"
  }
 },
 "nbformat": 4,
 "nbformat_minor": 2
}
