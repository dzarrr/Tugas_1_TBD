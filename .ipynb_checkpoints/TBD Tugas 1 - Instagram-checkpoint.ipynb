{
 "cells": [
  {
   "cell_type": "code",
   "execution_count": 1,
   "metadata": {},
   "outputs": [
    {
     "data": {
      "text/plain": [
       "['/audrykth/',\n",
       " '/rosananhr/',\n",
       " '/prabhat6106/',\n",
       " '/dendysequerpant/',\n",
       " '/liya_fbrynt/',\n",
       " '/rbytl_adnin/',\n",
       " '/budhyibrahimliu/',\n",
       " '/husnulhusnulhasan/',\n",
       " '/sagarmulashiya15/',\n",
       " '/dessymeliyana_04/']"
      ]
     },
     "execution_count": 1,
     "metadata": {},
     "output_type": "execute_result"
    }
   ],
   "source": [
    "from bs4 import BeautifulSoup\n",
    "import requests\n",
    "\n",
    "import pandas as pd\n",
    "\n",
    "data = open(\"dataInsta.txt\", \"r\")\n",
    "insta_user = []\n",
    "for line in data:\n",
    "    insta_user.append(line.replace(\"\\r\\n\", \"\"))\n",
    "insta_user"
   ]
  },
  {
   "cell_type": "code",
   "execution_count": 17,
   "metadata": {},
   "outputs": [
    {
     "name": "stdout",
     "output_type": "stream",
     "text": [
      "('https://www.instagram.com/audrykth/', [u'455 Followers', u'228 Following', u'6 Posts '])\n",
      "455 Followers\n",
      "228 Following\n",
      "6 Posts \n",
      "('https://www.instagram.com/rosananhr/', [u'127 Followers', u'301 Following', u'1 Posts '])\n",
      "127 Followers\n",
      "301 Following\n",
      "1 Posts \n",
      "('https://www.instagram.com/prabhat6106/', [u'573 Followers', u'318 Following', u'29 Posts '])\n",
      "573 Followers\n",
      "318 Following\n",
      "29 Posts \n",
      "('https://www.instagram.com/dendysequerpant/', [u'87 Followers', u'513 Following', u'3 Posts '])\n",
      "87 Followers\n",
      "513 Following\n",
      "3 Posts \n",
      "('https://www.instagram.com/liya_fbrynt/', [u'595 Followers', u'275 Following', u'4 Posts '])\n",
      "595 Followers\n",
      "275 Following\n",
      "4 Posts \n",
      "('https://www.instagram.com/rbytl_adnin/', [u'805 Followers', u'163 Following', u'42 Posts '])\n",
      "805 Followers\n",
      "163 Following\n",
      "42 Posts \n",
      "('https://www.instagram.com/budhyibrahimliu/', [u'12 Followers', u'47 Following', u'4 Posts '])\n",
      "12 Followers\n",
      "47 Following\n",
      "4 Posts \n",
      "('https://www.instagram.com/husnulhusnulhasan/', [u'374 Followers', u'382 Following', u'36 Posts '])\n",
      "374 Followers\n",
      "382 Following\n",
      "36 Posts \n",
      "('https://www.instagram.com/sagarmulashiya15/', [u'309 Followers', u'1,098 Following', u'3 Posts '])\n",
      "309 Followers\n",
      "1,098 Following\n",
      "3 Posts \n",
      "('https://www.instagram.com/dessymeliyana_04/', [u'1,964 Followers', u'109 Following', u'7 Posts '])\n",
      "1,964 Followers\n",
      "109 Following\n",
      "7 Posts \n",
      "[455, 127, 573, 87, 595, 805, 12, 374, 309, 1964]\n",
      "[228, 301, 318, 513, 275, 163, 47, 382, 1098, 109]\n",
      "[6, 1, 29, 3, 4, 42, 4, 36, 3, 7]\n"
     ]
    }
   ],
   "source": [
    "page_list = []\n",
    "for user in insta_user:\n",
    "    page_list.append(\"https://www.instagram.com\" + user)\n",
    "\n",
    "followers = []\n",
    "following = []\n",
    "posts = []\n",
    "    \n",
    "for element in page_list:\n",
    "    page = requests.get(element)\n",
    "    soup = BeautifulSoup(page.content, 'html.parser')\n",
    "    page_data = soup.find('meta', {'name': 'description'})['content'].split('-')\n",
    "    page_data = page_data[0].split(\", \")\n",
    "    print (element, page_data)\n",
    "    for elements in page_data:\n",
    "        print elements\n",
    "        elements = elements.split(' ')\n",
    "        if elements > 0:\n",
    "            if elements[1] == \"Followers\":\n",
    "                followers.append(int(elements[0].replace(\",\",\"\")))\n",
    "            if elements[1] == \"Following\":\n",
    "                following.append(int(elements[0].replace(\",\",\"\")))\n",
    "            if elements[1] == \"Posts\":\n",
    "                posts.append(int(elements[0].replace(\",\",\"\")))\n",
    "            \n",
    "print followers\n",
    "print following\n",
    "print posts"
   ]
  },
  {
   "cell_type": "code",
   "execution_count": null,
   "metadata": {},
   "outputs": [],
   "source": []
  }
 ],
 "metadata": {
  "kernelspec": {
   "display_name": "Python 2",
   "language": "python",
   "name": "python2"
  },
  "language_info": {
   "codemirror_mode": {
    "name": "ipython",
    "version": 2
   },
   "file_extension": ".py",
   "mimetype": "text/x-python",
   "name": "python",
   "nbconvert_exporter": "python",
   "pygments_lexer": "ipython2",
   "version": "2.7.10"
  }
 },
 "nbformat": 4,
 "nbformat_minor": 2
}
