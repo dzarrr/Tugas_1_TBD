{
 "cells": [
  {
   "cell_type": "code",
   "execution_count": 22,
   "metadata": {},
   "outputs": [
    {
     "data": {
      "text/plain": [
       "['/audrykth/',\n",
       " '/rosananhr/',\n",
       " '/prabhat6106/',\n",
       " '/dendysequerpant/',\n",
       " '/liya_fbrynt/',\n",
       " '/rbytl_adnin/',\n",
       " '/budhyibrahimliu/',\n",
       " '/husnulhusnulhasan/',\n",
       " '/sagarmulashiya15/',\n",
       " '/dessymeliyana_04/']"
      ]
     },
     "execution_count": 22,
     "metadata": {},
     "output_type": "execute_result"
    }
   ],
   "source": [
    "from bs4 import BeautifulSoup\n",
    "import requests\n",
    "\n",
    "import pandas as pd\n",
    "\n",
    "data = open(\"dataInstaMini.txt\", \"r\")\n",
    "insta_user = []\n",
    "for line in data:\n",
    "    insta_user.append(line.replace(\"\\r\\n\", \"\"))\n",
    "insta_user"
   ]
  },
  {
   "cell_type": "code",
   "execution_count": 41,
   "metadata": {},
   "outputs": [
    {
     "name": "stdout",
     "output_type": "stream",
     "text": [
      "454 Followers\n",
      " 238 Following\n",
      " 4 Posts \n",
      "[u'454 Followers', u' 238 Following', u' 4 Posts '] https://www.instagram.com/audrykth/\n",
      "94 Followers\n",
      " 236 Following\n",
      " 1 Posts \n",
      "[u'94 Followers', u' 236 Following', u' 1 Posts '] https://www.instagram.com/rosananhr/\n",
      "613 Followers\n",
      " 1\n",
      "013 Following\n",
      " 28 Posts \n",
      "[u'613 Followers', u' 1', u'013 Following', u' 28 Posts '] https://www.instagram.com/prabhat6106/\n",
      "20 Followers\n",
      " 78 Following\n",
      " 1 Posts \n",
      "[u'20 Followers', u' 78 Following', u' 1 Posts '] https://www.instagram.com/dendysequerpant/\n",
      "594 Followers\n",
      " 270 Following\n",
      " 5 Posts \n",
      "[u'594 Followers', u' 270 Following', u' 5 Posts '] https://www.instagram.com/liya_fbrynt/\n",
      "768 Followers\n",
      " 194 Following\n",
      " 42 Posts \n",
      "[u'768 Followers', u' 194 Following', u' 42 Posts '] https://www.instagram.com/rbytl_adnin/\n",
      "8 Followers\n",
      " 40 Following\n",
      " 3 Posts \n",
      "[u'8 Followers', u' 40 Following', u' 3 Posts '] https://www.instagram.com/budhyibrahimliu/\n",
      "373 Followers\n",
      " 381 Following\n",
      " 34 Posts \n",
      "[u'373 Followers', u' 381 Following', u' 34 Posts '] https://www.instagram.com/husnulhusnulhasan/\n",
      "229 Followers\n",
      " 913 Following\n",
      " 3 Posts \n",
      "[u'229 Followers', u' 913 Following', u' 3 Posts '] https://www.instagram.com/sagarmulashiya15/\n",
      "1\n"
     ]
    },
    {
     "ename": "IndexError",
     "evalue": "string index out of range",
     "output_type": "error",
     "traceback": [
      "\u001b[0;31m---------------------------------------------------------------------------\u001b[0m",
      "\u001b[0;31mIndexError\u001b[0m                                Traceback (most recent call last)",
      "\u001b[0;32m<ipython-input-41-ded14d38f228>\u001b[0m in \u001b[0;36m<module>\u001b[0;34m()\u001b[0m\n\u001b[1;32m     16\u001b[0m         \u001b[0melements\u001b[0m\u001b[0;34m.\u001b[0m\u001b[0msplit\u001b[0m\u001b[0;34m(\u001b[0m\u001b[0;34m' '\u001b[0m\u001b[0;34m)\u001b[0m\u001b[0;34m\u001b[0m\u001b[0m\n\u001b[1;32m     17\u001b[0m         \u001b[0;32mif\u001b[0m \u001b[0melements\u001b[0m \u001b[0;34m>\u001b[0m \u001b[0;36m0\u001b[0m\u001b[0;34m:\u001b[0m\u001b[0;34m\u001b[0m\u001b[0m\n\u001b[0;32m---> 18\u001b[0;31m             \u001b[0;32mif\u001b[0m \u001b[0melements\u001b[0m\u001b[0;34m[\u001b[0m\u001b[0;36m1\u001b[0m\u001b[0;34m]\u001b[0m \u001b[0;34m==\u001b[0m \u001b[0;34m\"Followers\"\u001b[0m\u001b[0;34m:\u001b[0m\u001b[0;34m\u001b[0m\u001b[0m\n\u001b[0m\u001b[1;32m     19\u001b[0m                 \u001b[0mfollowers\u001b[0m\u001b[0;34m.\u001b[0m\u001b[0mappend\u001b[0m\u001b[0;34m(\u001b[0m\u001b[0mint\u001b[0m\u001b[0;34m(\u001b[0m\u001b[0melements\u001b[0m\u001b[0;34m[\u001b[0m\u001b[0;36m0\u001b[0m\u001b[0;34m]\u001b[0m\u001b[0;34m)\u001b[0m\u001b[0;34m)\u001b[0m\u001b[0;34m\u001b[0m\u001b[0m\n\u001b[1;32m     20\u001b[0m             \u001b[0;32mif\u001b[0m \u001b[0melements\u001b[0m\u001b[0;34m[\u001b[0m\u001b[0;36m1\u001b[0m\u001b[0;34m]\u001b[0m \u001b[0;34m==\u001b[0m \u001b[0;34m\"Following\"\u001b[0m\u001b[0;34m:\u001b[0m\u001b[0;34m\u001b[0m\u001b[0m\n",
      "\u001b[0;31mIndexError\u001b[0m: string index out of range"
     ]
    }
   ],
   "source": [
    "page_list = []\n",
    "for user in insta_user:\n",
    "    page_list.append(\"https://www.instagram.com\" + user)\n",
    "\n",
    "followers = []\n",
    "following = []\n",
    "posts = []\n",
    "    \n",
    "for element in page_list:\n",
    "    page = requests.get(element)\n",
    "    soup = BeautifulSoup(page.content, 'html.parser')\n",
    "    page_data = soup.find('meta', {'name': 'description'})['content'].split('-')\n",
    "    page_data = page_data[0].split(',')\n",
    "    for elements in page_data:\n",
    "        print elements\n",
    "        elements.split(' ')\n",
    "        if elements > 0:\n",
    "            if elements[1] == \"Followers\":\n",
    "                followers.append(int(elements[0]))\n",
    "            if elements[1] == \"Following\":\n",
    "                following.append(int(elements[0]))\n",
    "            if elements[1] == \"Posts\":\n",
    "                posts.append(int(elements[0]))\n",
    "            \n",
    "    print page_data, element\n",
    "\n",
    "print followers\n",
    "print following\n",
    "print posts"
   ]
  },
  {
   "cell_type": "code",
   "execution_count": null,
   "metadata": {},
   "outputs": [],
   "source": []
  }
 ],
 "metadata": {
  "kernelspec": {
   "display_name": "Python 2",
   "language": "python",
   "name": "python2"
  },
  "language_info": {
   "codemirror_mode": {
    "name": "ipython",
    "version": 2
   },
   "file_extension": ".py",
   "mimetype": "text/x-python",
   "name": "python",
   "nbconvert_exporter": "python",
   "pygments_lexer": "ipython2",
   "version": "2.7.10"
  }
 },
 "nbformat": 4,
 "nbformat_minor": 2
}
